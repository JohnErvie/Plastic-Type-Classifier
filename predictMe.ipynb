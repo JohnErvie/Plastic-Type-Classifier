{
 "cells": [
  {
   "cell_type": "code",
   "execution_count": 10,
   "metadata": {},
   "outputs": [],
   "source": [
    "from tensorflow.keras import backend as K\n",
    "from tensorflow.keras.models import load_model\n",
    "from cv2 import cv2\n",
    "import argparse, pickle, os, uuid, json, time, datetime\n",
    "from datetime import datetime\n",
    "\n",
    "model = load_model('model/plastic.model')\n",
    "lb = pickle.loads(open('model/plastic_lb.pickle', \"rb\").read())"
   ]
  },
  {
   "cell_type": "code",
   "execution_count": 13,
   "metadata": {},
   "outputs": [],
   "source": [
    "# memuat gambar input dan mengubah ukurannya ke dimensi spasial target\n",
    "image = cv2.imread('testing/test12.jpg')\n",
    "output = image.copy()\n",
    "image = cv2.resize(image, (32, 32))\n",
    "\n",
    "\n",
    "\n",
    "# skala nilai piksel ke [0, 1]\n",
    "image = image.astype(\"float\") / 255.0\n",
    "\n",
    "# periksa untuk melihat apakah kita harus meratakan gambar dan menambahkan dimensi batch\n",
    "if 1 > 0:\n",
    "\timage = image.flatten()\n",
    "\timage = image.reshape((1, image.shape[0]))\n",
    "\n",
    "# jika tidak, kita harus bekerja dengan CNN - jangan ratakan gambar, cukup tambahkan dimensi kumpulan\n",
    "else:\n",
    "\timage = image.reshape((1, image.shape[0], image.shape[1],\n",
    "\t\timage.shape[2]))\n"
   ]
  },
  {
   "cell_type": "code",
   "execution_count": 14,
   "metadata": {},
   "outputs": [
    {
     "name": "stdout",
     "output_type": "stream",
     "text": [
      "1/1 [==============================] - 0s 47ms/step\n"
     ]
    }
   ],
   "source": [
    "# buat prediksi pada gambar\n",
    "preds = model.predict(image)\n",
    "\n",
    "# menemukan indeks label kelas dengan probabilitas terkait terbesar\n",
    "i = preds.argmax(axis=1)[0]\n",
    "label = lb.classes_[i]"
   ]
  },
  {
   "cell_type": "code",
   "execution_count": 16,
   "metadata": {},
   "outputs": [
    {
     "ename": "FileExistsError",
     "evalue": "[WinError 183] Cannot create a file when that file already exists: 'detection-results/29-10-2022/'",
     "output_type": "error",
     "traceback": [
      "\u001b[1;31m---------------------------------------------------------------------------\u001b[0m",
      "\u001b[1;31mFileExistsError\u001b[0m                           Traceback (most recent call last)",
      "\u001b[1;32m~\\AppData\\Local\\Temp/ipykernel_3704/736081765.py\u001b[0m in \u001b[0;36m<module>\u001b[1;34m\u001b[0m\n\u001b[0;32m     10\u001b[0m \u001b[1;32mif\u001b[0m\u001b[1;33m(\u001b[0m\u001b[0mos\u001b[0m\u001b[1;33m.\u001b[0m\u001b[0mpath\u001b[0m\u001b[1;33m.\u001b[0m\u001b[0misdir\u001b[0m\u001b[1;33m(\u001b[0m\u001b[0msave_place\u001b[0m\u001b[1;33m)\u001b[0m\u001b[1;33m)\u001b[0m\u001b[1;33m:\u001b[0m\u001b[1;33m\u001b[0m\u001b[1;33m\u001b[0m\u001b[0m\n\u001b[0;32m     11\u001b[0m         \u001b[1;31m# membuat directory penyimpanan output gambar\u001b[0m\u001b[1;33m\u001b[0m\u001b[1;33m\u001b[0m\u001b[0m\n\u001b[1;32m---> 12\u001b[1;33m         \u001b[0mos\u001b[0m\u001b[1;33m.\u001b[0m\u001b[0mmakedirs\u001b[0m\u001b[1;33m(\u001b[0m\u001b[0msave_place\u001b[0m\u001b[1;33m)\u001b[0m\u001b[1;33m\u001b[0m\u001b[1;33m\u001b[0m\u001b[0m\n\u001b[0m\u001b[0;32m     13\u001b[0m \u001b[1;33m\u001b[0m\u001b[0m\n\u001b[0;32m     14\u001b[0m \u001b[1;31m# gambarkan label kelas + probabilitas pada gambar output\u001b[0m\u001b[1;33m\u001b[0m\u001b[1;33m\u001b[0m\u001b[0m\n",
      "\u001b[1;32mc:\\Users\\ervie\\AppData\\Local\\Programs\\Python\\Python310\\lib\\os.py\u001b[0m in \u001b[0;36mmakedirs\u001b[1;34m(name, mode, exist_ok)\u001b[0m\n\u001b[0;32m    223\u001b[0m             \u001b[1;32mreturn\u001b[0m\u001b[1;33m\u001b[0m\u001b[1;33m\u001b[0m\u001b[0m\n\u001b[0;32m    224\u001b[0m     \u001b[1;32mtry\u001b[0m\u001b[1;33m:\u001b[0m\u001b[1;33m\u001b[0m\u001b[1;33m\u001b[0m\u001b[0m\n\u001b[1;32m--> 225\u001b[1;33m         \u001b[0mmkdir\u001b[0m\u001b[1;33m(\u001b[0m\u001b[0mname\u001b[0m\u001b[1;33m,\u001b[0m \u001b[0mmode\u001b[0m\u001b[1;33m)\u001b[0m\u001b[1;33m\u001b[0m\u001b[1;33m\u001b[0m\u001b[0m\n\u001b[0m\u001b[0;32m    226\u001b[0m     \u001b[1;32mexcept\u001b[0m \u001b[0mOSError\u001b[0m\u001b[1;33m:\u001b[0m\u001b[1;33m\u001b[0m\u001b[1;33m\u001b[0m\u001b[0m\n\u001b[0;32m    227\u001b[0m         \u001b[1;31m# Cannot rely on checking for EEXIST, since the operating system\u001b[0m\u001b[1;33m\u001b[0m\u001b[1;33m\u001b[0m\u001b[0m\n",
      "\u001b[1;31mFileExistsError\u001b[0m: [WinError 183] Cannot create a file when that file already exists: 'detection-results/29-10-2022/'"
     ]
    }
   ],
   "source": [
    "start_time \t\t= time.time()\n",
    "predict_token \t= str(datetime.now().strftime(\"%d-%m-%Y\"))\n",
    "save_token\t\t= str(datetime.now().strftime(\"%d%m%Y_%H%M%S\"))\n",
    "save_place \t\t= 'detection-results/' + predict_token + '/'\n",
    "save_name \t\t= save_place + label + \"_\" + save_token + '.jpg'\n",
    "arr_data \t\t= {}\n",
    "binarizer_data\t= []\n",
    "\n",
    "print((os.path.isdir(save_place)))\n",
    "'''\n",
    "if(os.path.isdir(save_place)):\n",
    "\t# membuat directory penyimpanan output gambar\n",
    "\tos.makedirs(save_place)\n",
    "\n",
    "# gambarkan label kelas + probabilitas pada gambar output\n",
    "text = \"{}: {:.2f}%\".format(label, preds[0][i] * 100)\n",
    "cv2.putText(output, text, (10, 30), cv2.FONT_HERSHEY_SIMPLEX, 0.7, (0, 0, 255), 2)\n",
    "cv2.imwrite(save_name, output)\n",
    "\n",
    "# menyimpan binarizer data kedalam array\n",
    "binarizer_data.append({\n",
    "\t\"shape\":image.shape,\n",
    "\t\"data\":image.tolist()})\n",
    "\n",
    "# memasukan variabel yang diperlukan kedalam array untuk ditampilkan\n",
    "arr_data['_id']\t\t\t= predict_token\n",
    "arr_data['type'] \t\t= label\n",
    "arr_data['percentage'] \t= preds[0][i] * 100\n",
    "# arr_data['binarizer']\t= binarizer_data\n",
    "arr_data['file']\t\t= save_name\n",
    "arr_data['time_used'] \t= time.time() - start_time\n",
    "\n",
    "# menampilkan response kedalam json\n",
    "resJson = json.dumps(arr_data, ensure_ascii=False, sort_keys=False, indent=4, separators=(',', ': '))\n",
    "print(resJson)\n",
    "'''"
   ]
  }
 ],
 "metadata": {
  "kernelspec": {
   "display_name": "Python 3.10.0 64-bit",
   "language": "python",
   "name": "python3"
  },
  "language_info": {
   "codemirror_mode": {
    "name": "ipython",
    "version": 3
   },
   "file_extension": ".py",
   "mimetype": "text/x-python",
   "name": "python",
   "nbconvert_exporter": "python",
   "pygments_lexer": "ipython3",
   "version": "3.10.0"
  },
  "orig_nbformat": 4,
  "vscode": {
   "interpreter": {
    "hash": "5e5b8a6526e1e85950cc2af268f9c4d0714d24a22841e2ee84fc3d300a93f8fc"
   }
  }
 },
 "nbformat": 4,
 "nbformat_minor": 2
}
